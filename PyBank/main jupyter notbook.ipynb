{
 "cells": [
  {
   "cell_type": "code",
   "execution_count": 8,
   "id": "c261a3b0",
   "metadata": {},
   "outputs": [],
   "source": [
    "import os\n",
    "import csv"
   ]
  },
  {
   "cell_type": "code",
   "execution_count": 9,
   "id": "6a4696d4",
   "metadata": {},
   "outputs": [],
   "source": [
    "csvpath = os.path.join(\"Resources\", \"budget_data.csv\")"
   ]
  },
  {
   "cell_type": "code",
   "execution_count": 10,
   "id": "cf7b081e",
   "metadata": {},
   "outputs": [],
   "source": [
    "# Establish parameters\n",
    "month_list = [] #list of all months\n",
    "profit_loss_list = [] #list of all profits and losses\n",
    "\n",
    "total_months = 0 #sum of all months\n",
    "total_net = 0 #sum of all profit/loss \n",
    "\n",
    "month_to_month_pl_change = 0\n",
    "current_month_pl = 0\n",
    "past_month_pl= 0\n",
    "current_month = 0\n",
    "total_monthly_changes = 0\n",
    "\n",
    "average = 0"
   ]
  },
  {
   "cell_type": "code",
   "execution_count": 11,
   "id": "9e24c76f",
   "metadata": {},
   "outputs": [],
   "source": [
    "with open(csvpath) as csvfile:\n",
    "    csvreader = csv.reader(csvfile, delimiter=',')\n",
    "    header = next(csvreader)"
   ]
  },
  {
   "cell_type": "code",
   "execution_count": null,
   "id": "b57e4751",
   "metadata": {},
   "outputs": [],
   "source": [
    "    for row in csvreader:\n",
    "        # Count total months and sum total row.\n",
    "        total_months += 1\n",
    "        total_net += int(row[1])\n",
    "        # Add to months list and pl list\n",
    "        month_list.append(row)\n",
    "        profit_loss_list.append(row)"
   ]
  },
  {
   "cell_type": "code",
   "execution_count": null,
   "id": "eeeb70f0",
   "metadata": {},
   "outputs": [],
   "source": []
  },
  {
   "cell_type": "code",
   "execution_count": null,
   "id": "b5d5475b",
   "metadata": {},
   "outputs": [],
   "source": []
  }
 ],
 "metadata": {
  "kernelspec": {
   "display_name": "Python 3 (ipykernel)",
   "language": "python",
   "name": "python3"
  },
  "language_info": {
   "codemirror_mode": {
    "name": "ipython",
    "version": 3
   },
   "file_extension": ".py",
   "mimetype": "text/x-python",
   "name": "python",
   "nbconvert_exporter": "python",
   "pygments_lexer": "ipython3",
   "version": "3.9.12"
  }
 },
 "nbformat": 4,
 "nbformat_minor": 5
}
